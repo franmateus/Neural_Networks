{
 "cells": [
  {
   "cell_type": "markdown",
   "metadata": {},
   "source": [
    "# Trabalho de Aplicação do Conhecimento (TAC)\n",
    "# Aluna: MFSSM\n",
    "# <font color='orangered'>Redes Neurais Profundas</font>"
   ]
  },
  {
   "cell_type": "markdown",
   "metadata": {},
   "source": [
    "## Instalando e Carregando os Pacotes"
   ]
  },
  {
   "cell_type": "code",
   "execution_count": null,
   "metadata": {},
   "outputs": [],
   "source": [
    "# !pip install -q tensorflow==2.11.0"
   ]
  },
  {
   "cell_type": "code",
   "execution_count": null,
   "metadata": {},
   "outputs": [],
   "source": [
    "%env TF_CPP_MIN_LOG_LEVEL=3"
   ]
  },
  {
   "cell_type": "code",
   "execution_count": null,
   "metadata": {},
   "outputs": [],
   "source": [
    "# # https://www.tensorflow.org/\n",
    "# !pip install -q tensorflow"
   ]
  },
  {
   "cell_type": "code",
   "execution_count": null,
   "metadata": {},
   "outputs": [],
   "source": [
    "# # https://pypi.org/project/yfinance/\n",
    "# !pip install -q yfinance==0.2.22"
   ]
  },
  {
   "cell_type": "code",
   "execution_count": null,
   "metadata": {},
   "outputs": [],
   "source": [
    "# # https://pypi.org/project/ta/\n",
    "# !pip install -q ta==0.10.2"
   ]
  },
  {
   "cell_type": "code",
   "execution_count": null,
   "metadata": {},
   "outputs": [],
   "source": [
    "# Imports\n",
    "import ta\n",
    "import sklearn\n",
    "import pandas as pd\n",
    "import numpy as np\n",
    "import tensorflow\n",
    "from tensorflow import keras\n",
    "from keras import layers\n",
    "from sklearn import metrics\n",
    "from sklearn.preprocessing import StandardScaler, MinMaxScaler\n",
    "import yfinance as yf\n",
    "import matplotlib.pyplot as plt\n",
    "from matplotlib import cycler\n",
    "import seaborn as sns\n",
    "import tensorflow as tf\n",
    "from tensorflow.keras import layers\n",
    "\n",
    "#from tensorflow.keras.models import Sequential\n",
    "#from tensorflow.keras.layers import Dense, LSTM, Dropout\n"
   ]
  },
  {
   "cell_type": "code",
   "execution_count": null,
   "metadata": {},
   "outputs": [],
   "source": [
    "from plotly.subplots import make_subplots\n",
    "import plotly.graph_objects as go\n",
    "from sklearn.metrics import mean_absolute_error, make_scorer, mean_squared_error, explained_variance_score\n",
    "import matplotlib.dates as mdates\n",
    "plt.rcParams['figure.figsize'] = (10, 5)\n",
    "plt.style.use('fivethirtyeight')\n",
    "plt.style.use('seaborn')"
   ]
  },
  {
   "cell_type": "code",
   "execution_count": null,
   "metadata": {
    "id": "eJUaw5qy34It"
   },
   "outputs": [],
   "source": [
    "import warnings\n",
    "warnings.filterwarnings('ignore')"
   ]
  },
  {
   "cell_type": "markdown",
   "metadata": {},
   "source": [
    "## Carregando os dados em tempo real"
   ]
  },
  {
   "cell_type": "code",
   "execution_count": null,
   "metadata": {
    "colab": {
     "base_uri": "https://localhost:8080/",
     "height": 204
    },
    "id": "Lvf5ljbhpo8i",
    "outputId": "f1ffdb10-69ba-4b97-c59d-74cf1433d364"
   },
   "outputs": [],
   "source": [
    "# Função para extrair os dados das ações direto do portal Yahoo! Finance\n",
    "def extrai_dados(ticker):\n",
    "    dados = yf.download(ticker, start = \"2010-01-01\", end= \"2024-08-31\")\n",
    "    dados.columns = [\"open\", \"high\", \"low\", \"close\", \"adj close\", \"volume\"]\n",
    "    dados.index.name = \"date\"\n",
    "    return dados\n",
    "\n",
    "df = extrai_dados(\"AMZN\")"
   ]
  },
  {
   "cell_type": "code",
   "execution_count": null,
   "metadata": {},
   "outputs": [],
   "source": [
    "df.head(1)"
   ]
  },
  {
   "cell_type": "markdown",
   "metadata": {},
   "source": [
    "## Função Para Engenharia de Atributos de Dados Financeiros"
   ]
  },
  {
   "cell_type": "code",
   "execution_count": null,
   "metadata": {},
   "outputs": [],
   "source": [
    "def func_engenharia_atributos(df):\n",
    "    df_copy = df.copy()\n",
    "\n",
    "    # Variável retorno\n",
    "    df_copy[\"retorno\"] = df_copy[\"close\"].pct_change(1)\n",
    "\n",
    "    # Shift das colunas de preço do ativo financeiro\n",
    "    df_copy[\"op\"] = df_copy[\"open\"].shift(1)\n",
    "    df_copy[\"hi\"] = df_copy[\"high\"].shift(1)\n",
    "    df_copy[\"lo\"] = df_copy[\"low\"].shift(1)\n",
    "    df_copy[\"clo\"] = df_copy[\"close\"].shift(1)\n",
    "\n",
    "    # Shift da coluna Volume\n",
    "    df_copy[\"vol\"] = df_copy[\"volume\"].shift(1)\n",
    "\n",
    "    # Média Móvel (SMA)\n",
    "    df_copy[\"SMA 25\"] = df_copy[[\"close\"]].rolling(25).mean().shift(1)\n",
    "    df_copy[\"SMA 300\"] = df_copy[[\"close\"]].rolling(300).mean().shift(1)\n",
    "\n",
    "    # Desvio-padrão móvel (MSD)\n",
    "    df_copy[\"MSD 25\"] = df_copy[\"retorno\"].rolling(25).std().shift(1)\n",
    "    df_copy[\"MSD 300\"] = df_copy[\"retorno\"].rolling(300).std().shift(1)\n",
    "\n",
    "    # Volume Weighted Average Price (VWAP)\n",
    "    vwap = ta.volume.VolumeWeightedAveragePrice(high = df['high'],\n",
    "                                                low = df['low'],\n",
    "                                                close = df['close'],\n",
    "                                                volume = df['volume'],\n",
    "                                                window = 5)\n",
    "    df_copy[\"VWAP\"] = vwap.vwap.shift(1)\n",
    "\n",
    "    # Índice de Força Relativa (RSI)\n",
    "    RSI = ta.momentum.RSIIndicator(df_copy[\"close\"], window = 5, fillna = False)\n",
    "    df_copy[\"RSI\"] = RSI.rsi().shift(1)\n",
    "\n",
    "    return df_copy.dropna()"
   ]
  },
  {
   "cell_type": "code",
   "execution_count": null,
   "metadata": {},
   "outputs": [],
   "source": [
    "# Engenharia de atributos\n",
    "df = func_engenharia_atributos(df)"
   ]
  },
  {
   "cell_type": "code",
   "execution_count": null,
   "metadata": {},
   "outputs": [],
   "source": [
    "df.head(1)"
   ]
  },
  {
   "cell_type": "code",
   "execution_count": null,
   "metadata": {
    "colab": {
     "base_uri": "https://localhost:8080/",
     "height": 360
    },
    "id": "UAxAksP-5GJn",
    "outputId": "b43b5da0-6e05-4c45-9325-52367b693def"
   },
   "outputs": [],
   "source": [
    "# Plot\n",
    "plt.figure(figsize = (20,5))\n",
    "plt.grid()\n",
    "plt.plot(df.index, df['close'], color = 'blue')\n",
    "ax = plt.gca()\n",
    "ax.xaxis.set_major_locator(mdates.MonthLocator(interval = 12))\n",
    "ax.xaxis.set_major_formatter(mdates.DateFormatter('%m-%Y'))\n",
    "plt.gcf().autofmt_xdate() \n",
    "plt.legend(['Cotação'], loc='best')\n",
    "plt.title('Cotação de ações entre 2019-2024\\n')\n",
    "plt.ylabel('\\nCotação das ações')\n",
    "plt.xlabel('\\nData')"
   ]
  },
  {
   "cell_type": "code",
   "execution_count": null,
   "metadata": {
    "colab": {
     "base_uri": "https://localhost:8080/",
     "height": 1000
    },
    "id": "Wsgst2AX598R",
    "outputId": "4490391a-3138-46f4-a32c-6c5f050729d0"
   },
   "outputs": [],
   "source": [
    "# Plot da cotação de outros commodities\n",
    "fig = make_subplots(rows = 6, cols = 1)\n",
    "\n",
    "fig.add_trace(go.Scatter(x = df.reset_index()['date'], \n",
    "                         y = df.reset_index()['open'],\n",
    "                         name = 'open'), row = 1, col = 1\n",
    ")\n",
    "fig.add_trace(go.Scatter(x = df.reset_index()['date'], \n",
    "                         y = df.reset_index()['high'],\n",
    "                         name = 'high'), row = 2, col = 1\n",
    ")\n",
    "fig.add_trace(go.Scatter(x = df.reset_index()['date'], \n",
    "                         y = df.reset_index()['low'],\n",
    "                         name = 'low'), row = 3, col = 1\n",
    ")\n",
    "fig.add_trace(go.Scatter(x = df.reset_index()['date'], \n",
    "                         y = df.reset_index()['close'],\n",
    "                         name = 'close'), row = 4, col = 1\n",
    ")\n",
    "fig.add_trace(go.Scatter(x = df.reset_index()['date'], \n",
    "                         y = df.reset_index()['adj close'],\n",
    "                         name = 'adj close'), row = 5, col = 1\n",
    ")\n",
    "fig.update_layout(height = 700, width = 900, title_text = \"Valores ao Longo do Tempo\")\n",
    "fig.show()"
   ]
  },
  {
   "cell_type": "code",
   "execution_count": null,
   "metadata": {
    "colab": {
     "base_uri": "https://localhost:8080/",
     "height": 300
    },
    "id": "pnKg-SfY6j9g",
    "outputId": "8cbefc1b-93fa-4ad4-8519-94bfe01ffa6b"
   },
   "outputs": [],
   "source": [
    "# # Plot\n",
    "# plt.figure(figsize = (25,10))\n",
    "# ax = df.plot.area(fontsize = 10);\n",
    "# ax.set_xlabel('date');\n",
    "# ax.legend(fontsize=12);"
   ]
  },
  {
   "cell_type": "markdown",
   "metadata": {
    "id": "dPoGjuS366Cc"
   },
   "source": [
    "### Pré-Processamento dos Dados"
   ]
  },
  {
   "cell_type": "code",
   "execution_count": null,
   "metadata": {},
   "outputs": [],
   "source": [
    "# Proporção de dados para treino e teste\n",
    "train_size = int(len(df) * 0.8)\n",
    "test_size = len(df) - train_size"
   ]
  },
  {
   "cell_type": "code",
   "execution_count": null,
   "metadata": {},
   "outputs": [],
   "source": [
    "# Define o tamanho das amostras\n",
    "train, test = df.iloc[0:train_size], df.iloc[train_size:len(df)]"
   ]
  },
  {
   "cell_type": "code",
   "execution_count": null,
   "metadata": {
    "colab": {
     "base_uri": "https://localhost:8080/"
    },
    "id": "nYZL-9Sy3xpJ",
    "outputId": "ea8ebf7d-1eea-4e56-a02c-629f6300a46b"
   },
   "outputs": [],
   "source": [
    "print('Tamanho da Amostra de Treino:', len(train))\n",
    "print('Tamanho da Amostra de Teste:', len(test))"
   ]
  },
  {
   "cell_type": "code",
   "execution_count": null,
   "metadata": {
    "colab": {
     "base_uri": "https://localhost:8080/",
     "height": 252
    },
    "id": "QvbHy-5RmPuI",
    "outputId": "3637dc0c-cab5-4228-82ee-06e1871264dd"
   },
   "outputs": [],
   "source": [
    "print(train.shape)\n",
    "train.head()"
   ]
  },
  {
   "cell_type": "code",
   "execution_count": null,
   "metadata": {},
   "outputs": [],
   "source": [
    "# Variáveis preditoras\n",
    "variaveis_preditoras = [\"retorno\", \"volume\", \"RSI\", \"SMA 25\", \"MSD 25\", \"MSD 300\"]"
   ]
  },
  {
   "cell_type": "code",
   "execution_count": null,
   "metadata": {},
   "outputs": [],
   "source": [
    "# Prepara o padronizador das variáveis preditoras\n",
    "scaler_preditores = MinMaxScaler()"
   ]
  },
  {
   "cell_type": "code",
   "execution_count": null,
   "metadata": {},
   "outputs": [],
   "source": [
    "# Fit nos dados de treino\n",
    "scaler_preditores = scaler_preditores.fit(train[variaveis_preditoras].to_numpy())"
   ]
  },
  {
   "cell_type": "code",
   "execution_count": null,
   "metadata": {
    "colab": {
     "base_uri": "https://localhost:8080/",
     "height": 235
    },
    "id": "Lg-AQuNBmvZK",
    "outputId": "d814b537-5a36-4bfa-8e40-01f7910e64d8"
   },
   "outputs": [],
   "source": [
    "# Transform nos dados de treino\n",
    "train.loc[:, variaveis_preditoras] = scaler_preditores.transform(train[variaveis_preditoras].to_numpy())"
   ]
  },
  {
   "cell_type": "code",
   "execution_count": null,
   "metadata": {},
   "outputs": [],
   "source": [
    "train.head()"
   ]
  },
  {
   "cell_type": "code",
   "execution_count": null,
   "metadata": {
    "colab": {
     "base_uri": "https://localhost:8080/",
     "height": 235
    },
    "id": "aouQuJG5n6k8",
    "outputId": "dba4d5eb-8949-4491-ca5b-fcebbf4bf4ca"
   },
   "outputs": [],
   "source": [
    "# Transform nos dados de teste\n",
    "test.loc[:, variaveis_preditoras] = scaler_preditores.transform(test[variaveis_preditoras].to_numpy())"
   ]
  },
  {
   "cell_type": "code",
   "execution_count": null,
   "metadata": {},
   "outputs": [],
   "source": [
    "test.head()"
   ]
  },
  {
   "cell_type": "code",
   "execution_count": null,
   "metadata": {},
   "outputs": [],
   "source": [
    "# Padronizador da variável alvo\n",
    "scaler_target = MinMaxScaler()"
   ]
  },
  {
   "cell_type": "code",
   "execution_count": null,
   "metadata": {},
   "outputs": [],
   "source": [
    "# Fit nos dados de treino\n",
    "scaler_target = scaler_target.fit(train[['close']])"
   ]
  },
  {
   "cell_type": "code",
   "execution_count": null,
   "metadata": {
    "colab": {
     "base_uri": "https://localhost:8080/"
    },
    "id": "XNkE4gN9nJLt",
    "outputId": "c2c54a9f-4921-480b-a532-789f93ccafc7"
   },
   "outputs": [],
   "source": [
    "# Transform nos dados de treino\n",
    "train['close'] = scaler_target.transform(train[['close']])"
   ]
  },
  {
   "cell_type": "code",
   "execution_count": null,
   "metadata": {},
   "outputs": [],
   "source": [
    "train['close'].head()"
   ]
  },
  {
   "cell_type": "code",
   "execution_count": null,
   "metadata": {
    "colab": {
     "base_uri": "https://localhost:8080/"
    },
    "id": "GXgFSrz3n6o5",
    "outputId": "eaeef080-b817-41d7-9582-debe4789b866"
   },
   "outputs": [],
   "source": [
    "# Transform nos dados de teste\n",
    "test['close'] = scaler_target.transform(test[['close']])"
   ]
  },
  {
   "cell_type": "code",
   "execution_count": null,
   "metadata": {},
   "outputs": [],
   "source": [
    "test['close'].head()"
   ]
  },
  {
   "cell_type": "code",
   "execution_count": null,
   "metadata": {},
   "outputs": [],
   "source": [
    "# Função para criar o dataset final\n",
    "def createDataset(X, y, time_steps):\n",
    "    \n",
    "    Xs, ys = [], []\n",
    "    \n",
    "    for i in range(len(X) - time_steps):\n",
    "        data = X.iloc[i:(i + time_steps)].values\n",
    "        Xs.append(data)        \n",
    "        ys.append(y.iloc[i + time_steps])\n",
    "        \n",
    "    return np.array(Xs), np.array(ys)"
   ]
  },
  {
   "cell_type": "code",
   "execution_count": null,
   "metadata": {},
   "outputs": [],
   "source": [
    "# se a série for trimestral, analisa o trimeste (3 meses); mensal, o mês/meses (1); diária, a qtde dias (ex: 30, 60, 90). \n",
    "# Se não incluir isso, a série será analisada diariamente (formato original)\n",
    "time_steps = 25"
   ]
  },
  {
   "cell_type": "code",
   "execution_count": null,
   "metadata": {},
   "outputs": [],
   "source": [
    "X_train, y_train = createDataset(train, train.close, time_steps)"
   ]
  },
  {
   "cell_type": "code",
   "execution_count": null,
   "metadata": {
    "colab": {
     "base_uri": "https://localhost:8080/"
    },
    "id": "fGTyTKiYoJIb",
    "outputId": "99e279a1-eb93-4447-a8c8-291a7d11a1d1"
   },
   "outputs": [],
   "source": [
    "X_test, y_test = createDataset(test, test.close, time_steps)"
   ]
  },
  {
   "cell_type": "code",
   "execution_count": null,
   "metadata": {},
   "outputs": [],
   "source": [
    "print(X_train.shape, y_train.shape)"
   ]
  },
  {
   "cell_type": "code",
   "execution_count": null,
   "metadata": {},
   "outputs": [],
   "source": [
    "print(X_test.shape, y_test.shape)"
   ]
  },
  {
   "cell_type": "code",
   "execution_count": null,
   "metadata": {},
   "outputs": [],
   "source": [
    "X_train_mlp = X_train[:, :, 0]"
   ]
  },
  {
   "cell_type": "code",
   "execution_count": null,
   "metadata": {},
   "outputs": [],
   "source": [
    "X_test_mlp = X_test[:, :, 0]"
   ]
  },
  {
   "cell_type": "markdown",
   "metadata": {
    "id": "ueNautn4tWP2"
   },
   "source": [
    "# LSTM"
   ]
  },
  {
   "cell_type": "code",
   "execution_count": null,
   "metadata": {},
   "outputs": [],
   "source": [
    "# Cria o modelo\n",
    "modelo_lstm = tf.keras.Sequential()\n",
    "modelo_lstm.add(tf.keras.layers.LSTM(units = 128, input_shape = (X_train.shape[1], X_train.shape[2])))\n",
    "modelo_lstm.add(tf.keras.layers.Dropout(rate = 0.2))\n",
    "modelo_lstm.add(tf.keras.layers.Dense(units = 1))"
   ]
  },
  {
   "cell_type": "code",
   "execution_count": null,
   "metadata": {},
   "outputs": [],
   "source": [
    "# Compila o modelo\n",
    "modelo_lstm.compile(loss = 'mse', optimizer = 'adam')"
   ]
  },
  {
   "cell_type": "code",
   "execution_count": null,
   "metadata": {},
   "outputs": [],
   "source": [
    "modelo_lstm.summary()"
   ]
  },
  {
   "cell_type": "markdown",
   "metadata": {},
   "source": [
    "### treina o modelo"
   ]
  },
  {
   "cell_type": "code",
   "execution_count": null,
   "metadata": {},
   "outputs": [],
   "source": [
    "callbacks = [keras.callbacks.EarlyStopping(patience = 5, restore_best_weights = True)]"
   ]
  },
  {
   "cell_type": "code",
   "execution_count": null,
   "metadata": {},
   "outputs": [],
   "source": [
    "%%time\n",
    "modelo_lstm_history = modelo_lstm.fit(X_train, \n",
    "                                      y_train,\n",
    "                                      epochs = 100,\n",
    "                                      batch_size = 32,\n",
    "                                      validation_split = 0.1,\n",
    "                                      callbacks = callbacks,\n",
    "                                      shuffle = False)"
   ]
  },
  {
   "cell_type": "code",
   "execution_count": null,
   "metadata": {},
   "outputs": [],
   "source": [
    "# Plot\n",
    "plt.plot(modelo_lstm_history.history['loss'])\n",
    "plt.plot(modelo_lstm_history.history['val_loss'])\n",
    "plt.title('Avaliação do Modelo')\n",
    "plt.ylabel('Erro')\n",
    "plt.xlabel('Epoch')\n",
    "plt.legend(['Treino', 'Validação'], loc = 'upper right')\n",
    "plt.show()"
   ]
  },
  {
   "cell_type": "markdown",
   "metadata": {},
   "source": [
    "### previsões com dados de teste"
   ]
  },
  {
   "cell_type": "code",
   "execution_count": null,
   "metadata": {},
   "outputs": [],
   "source": [
    "y_pred = modelo_lstm.predict(X_test)"
   ]
  },
  {
   "cell_type": "code",
   "execution_count": null,
   "metadata": {},
   "outputs": [],
   "source": [
    "# Invertemos a escala para visualizar o valor real e a previsão\n",
    "y_train_inv = scaler_target.inverse_transform(y_train.reshape(1, -1))\n",
    "y_test_inv = scaler_target.inverse_transform(y_test.reshape(1, -1))\n",
    "y_pred_inv = scaler_target.inverse_transform(y_pred.reshape(1,-1))"
   ]
  },
  {
   "cell_type": "code",
   "execution_count": null,
   "metadata": {},
   "outputs": [],
   "source": [
    "# Ajusta o shape\n",
    "y_train_inv = y_train_inv.flatten()\n",
    "y_test_inv = y_test_inv.flatten()\n",
    "y_pred_inv = y_pred_inv.flatten()"
   ]
  },
  {
   "cell_type": "code",
   "execution_count": null,
   "metadata": {},
   "outputs": [],
   "source": [
    "# Plot\n",
    "plt.plot(np.arange(0, len(y_train)), \n",
    "         y_train_inv, \n",
    "         color = 'green', \n",
    "         label = \"Histórico\")\n",
    "\n",
    "plt.plot(np.arange(len(y_train), \n",
    "                   len(y_train) + len(y_test)), \n",
    "         y_test_inv, \n",
    "         color = 'blue', \n",
    "         marker = '.', \n",
    "         label = \"Valor Real\")\n",
    "\n",
    "plt.plot(np.arange(len(y_train), \n",
    "                   len(y_train) + len(y_test)), \n",
    "         y_pred_inv, \n",
    "         color = 'red', \n",
    "         label = \"Previsão\")\n",
    "\n",
    "plt.ylabel('Cotação das ações')\n",
    "plt.xlabel('Data')\n",
    "plt.legend()\n",
    "plt.show();"
   ]
  },
  {
   "cell_type": "markdown",
   "metadata": {},
   "source": [
    "### Avaliação"
   ]
  },
  {
   "cell_type": "code",
   "execution_count": null,
   "metadata": {},
   "outputs": [],
   "source": [
    "#MAPE function\n",
    "def MAPE(y_true, y_pred):\n",
    "  y_true, y_pred = np.array(y_true), np.array(y_pred)\n",
    "  return np.mean(np.abs((y_true - y_pred) / y_true)) * 100"
   ]
  },
  {
   "cell_type": "code",
   "execution_count": null,
   "metadata": {},
   "outputs": [],
   "source": [
    "# Imprime as métricas\n",
    "MSE_lstm = mean_squared_error(y_test_inv, y_pred_inv)\n",
    "print('MSE:', MSE_lstm)\n",
    "\n",
    "RMSE_lstm = mean_squared_error(y_test_inv, y_pred_inv, squared = False)\n",
    "print('RMSE:', RMSE_lstm)\n",
    "\n",
    "MAPE_lstm = MAPE(y_test_inv, y_pred_inv)\n",
    "print('MAPE:', MAPE_lstm)"
   ]
  },
  {
   "cell_type": "markdown",
   "metadata": {},
   "source": [
    "# LSTM 2"
   ]
  },
  {
   "cell_type": "code",
   "execution_count": null,
   "metadata": {},
   "outputs": [],
   "source": [
    "model = tf.keras.Sequential()\n",
    "model.add(tf.keras.layers.LSTM(units = 120, return_sequences = True, input_shape = (X_train.shape[1], X_train.shape[2])))\n",
    "model.add(tf.keras.layers.Dropout(0.2))\n",
    "model.add(tf.keras.layers.LSTM(units = 120, return_sequences = True))\n",
    "model.add(tf.keras.layers.Dropout(0.2))\n",
    "model.add(tf.keras.layers.LSTM(units = 120, return_sequences = True))\n",
    "model.add(tf.keras.layers.Dropout(0.2))\n",
    "model.add(tf.keras.layers.LSTM(units = 120, return_sequences = False))\n",
    "model.add(tf.keras.layers.Dropout(0.2))\n",
    "model.add(tf.keras.layers.Dense(units = 1))"
   ]
  },
  {
   "cell_type": "code",
   "execution_count": null,
   "metadata": {},
   "outputs": [],
   "source": [
    "model.compile(optimizer = 'adam', loss = 'mse')"
   ]
  },
  {
   "cell_type": "code",
   "execution_count": null,
   "metadata": {},
   "outputs": [],
   "source": [
    "model.summary()"
   ]
  },
  {
   "cell_type": "code",
   "execution_count": null,
   "metadata": {},
   "outputs": [],
   "source": [
    "modelo_lstm_history2 = model.fit(X_train, \n",
    "                                 y_train,\n",
    "                                 epochs = 100,\n",
    "                                 batch_size = 32,\n",
    "                                 validation_split = 0.1,\n",
    "                                 callbacks = callbacks,\n",
    "                                 shuffle = False)"
   ]
  },
  {
   "cell_type": "code",
   "execution_count": null,
   "metadata": {},
   "outputs": [],
   "source": [
    "# Plot\n",
    "plt.plot(modelo_lstm_history2.history['loss'])\n",
    "plt.plot(modelo_lstm_history2.history['val_loss'])\n",
    "plt.title('Avaliação do Modelo')\n",
    "plt.ylabel('Erro')\n",
    "plt.xlabel('Epoch')\n",
    "plt.legend(['Treino', 'Validação'], loc = 'upper right')\n",
    "plt.show()"
   ]
  },
  {
   "cell_type": "code",
   "execution_count": null,
   "metadata": {},
   "outputs": [],
   "source": [
    "y_pred2 = model.predict(X_test)"
   ]
  },
  {
   "cell_type": "code",
   "execution_count": null,
   "metadata": {},
   "outputs": [],
   "source": [
    "# Invertemos a escala para visualizar o valor real e a previsão\n",
    "y_train_inv2 = scaler_target.inverse_transform(y_train.reshape(1, -1))\n",
    "y_test_inv2 = scaler_target.inverse_transform(y_test.reshape(1, -1))\n",
    "y_pred_inv2 = scaler_target.inverse_transform(y_pred2.reshape(1,-1))"
   ]
  },
  {
   "cell_type": "code",
   "execution_count": null,
   "metadata": {},
   "outputs": [],
   "source": [
    "# Ajusta o shape\n",
    "y_train_inv2 = y_train_inv2.flatten()\n",
    "y_test_inv2 = y_test_inv2.flatten()\n",
    "y_pred_inv2 = y_pred_inv2.flatten()"
   ]
  },
  {
   "cell_type": "code",
   "execution_count": null,
   "metadata": {},
   "outputs": [],
   "source": [
    "# Plot\n",
    "plt.plot(np.arange(0, len(y_train)), \n",
    "         y_train_inv2, \n",
    "         color = 'green', \n",
    "         label = \"Histórico\")\n",
    "\n",
    "plt.plot(np.arange(len(y_train), \n",
    "                   len(y_train) + len(y_test)), \n",
    "         y_test_inv2, \n",
    "         color = 'blue', \n",
    "         marker = '.', \n",
    "         label = \"Valor Real\")\n",
    "\n",
    "plt.plot(np.arange(len(y_train), \n",
    "                   len(y_train) + len(y_test)), \n",
    "         y_pred_inv2, \n",
    "         color = 'red', \n",
    "         label = \"Previsão\")\n",
    "\n",
    "plt.ylabel('Cotação das ações')\n",
    "plt.xlabel('Data')\n",
    "plt.legend()\n",
    "plt.show();"
   ]
  },
  {
   "cell_type": "code",
   "execution_count": null,
   "metadata": {},
   "outputs": [],
   "source": [
    "# Imprime as métricas\n",
    "MSE_lstm2 = mean_squared_error(y_test_inv2, y_pred_inv2)\n",
    "print('MSE:', MSE_lstm2)\n",
    "\n",
    "RMSE_lstm2 = mean_squared_error(y_test_inv2, y_pred_inv2, squared = False)\n",
    "print('RMSE:', RMSE_lstm2)\n",
    "\n",
    "MAPE_lstm2 = MAPE(y_test_inv2, y_pred_inv2)\n",
    "print('MAPE:', MAPE_lstm2)"
   ]
  },
  {
   "cell_type": "markdown",
   "metadata": {},
   "source": [
    "# Modelagem com GRU"
   ]
  },
  {
   "cell_type": "code",
   "execution_count": null,
   "metadata": {},
   "outputs": [],
   "source": [
    "# Cria o modelo\n",
    "modelo_gru = tf.keras.Sequential()\n",
    "modelo_gru.add(tf.keras.layers.GRU(units = 128, input_shape = (X_train.shape[1], X_train.shape[2])))\n",
    "modelo_gru.add(tf.keras.layers.Dropout(rate = 0.2))\n",
    "modelo_gru.add(tf.keras.layers.Dense(units = 1))"
   ]
  },
  {
   "cell_type": "code",
   "execution_count": null,
   "metadata": {},
   "outputs": [],
   "source": [
    "# Compila o modelo\n",
    "modelo_gru.compile(loss = 'mean_squared_error', optimizer = 'adam')"
   ]
  },
  {
   "cell_type": "code",
   "execution_count": null,
   "metadata": {},
   "outputs": [],
   "source": [
    "modelo_gru.summary()"
   ]
  },
  {
   "cell_type": "markdown",
   "metadata": {},
   "source": [
    "### treina o modelo"
   ]
  },
  {
   "cell_type": "code",
   "execution_count": null,
   "metadata": {},
   "outputs": [],
   "source": [
    "%%time\n",
    "modelo_gru_history = modelo_gru.fit(X_train, \n",
    "                                    y_train,\n",
    "                                    epochs = 100,\n",
    "                                    batch_size = 32,\n",
    "                                    validation_split = 0.1,\n",
    "                                    callbacks = callbacks,\n",
    "                                    shuffle = False)"
   ]
  },
  {
   "cell_type": "code",
   "execution_count": null,
   "metadata": {},
   "outputs": [],
   "source": [
    "# Plot\n",
    "plt.plot(modelo_gru_history.history['loss'])\n",
    "plt.plot(modelo_gru_history.history['val_loss'])\n",
    "plt.title('Avaliação do Modelo')\n",
    "plt.ylabel('Erro')\n",
    "plt.xlabel('Epoch')\n",
    "plt.legend(['Treino', 'Validação'], loc = 'upper right')\n",
    "plt.show()"
   ]
  },
  {
   "cell_type": "code",
   "execution_count": null,
   "metadata": {},
   "outputs": [],
   "source": [
    "# Previsão\n",
    "y_predg = modelo_gru.predict(X_test)"
   ]
  },
  {
   "cell_type": "code",
   "execution_count": null,
   "metadata": {},
   "outputs": [],
   "source": [
    "y_predg"
   ]
  },
  {
   "cell_type": "code",
   "execution_count": null,
   "metadata": {},
   "outputs": [],
   "source": [
    "# Invertemos a escala para visualizar o valor real e a previsão\n",
    "y_train_invg = scaler_target.inverse_transform(y_train.reshape(1, -1))\n",
    "y_test_invg = scaler_target.inverse_transform(y_test.reshape(1, -1))\n",
    "y_pred_invg = scaler_target.inverse_transform(y_predg.reshape(1,-1))"
   ]
  },
  {
   "cell_type": "code",
   "execution_count": null,
   "metadata": {},
   "outputs": [],
   "source": [
    "# Ajusta o shape\n",
    "y_train_invg = y_train_invg.flatten()\n",
    "y_test_invg = y_test_invg.flatten()\n",
    "y_pred_invg = y_pred_invg.flatten()"
   ]
  },
  {
   "cell_type": "code",
   "execution_count": null,
   "metadata": {},
   "outputs": [],
   "source": [
    "# Plot\n",
    "plt.plot(np.arange(0, len(y_train)), \n",
    "         y_train_invg, \n",
    "         color = 'green', \n",
    "         label = \"Histórico\")\n",
    "\n",
    "plt.plot(np.arange(len(y_train), \n",
    "                   len(y_train) + len(y_test)), \n",
    "         y_test_invg, \n",
    "         color = 'blue', \n",
    "         marker = '.', \n",
    "         label = \"Valor Real\")\n",
    "\n",
    "plt.plot(np.arange(len(y_train), \n",
    "                   len(y_train) + len(y_test)), \n",
    "         y_pred_invg, \n",
    "         color = 'red', \n",
    "         label = \"Previsão\")\n",
    "\n",
    "plt.ylabel('Cotação das ações')\n",
    "plt.xlabel('Data')\n",
    "plt.legend()\n",
    "plt.show();"
   ]
  },
  {
   "cell_type": "code",
   "execution_count": null,
   "metadata": {},
   "outputs": [],
   "source": [
    "# Imprime as métricas\n",
    "MSE_gru = mean_squared_error(y_test_invg, y_pred_invg)\n",
    "print('MSE:', MSE_gru)\n",
    "\n",
    "RMSE_gru = mean_squared_error(y_test_invg, y_pred_invg, squared = False)\n",
    "print('RMSE:', RMSE_gru)\n",
    "\n",
    "MAPE_gru = MAPE(y_test_invg, y_pred_invg)\n",
    "print('MAPE:', MAPE_gru)"
   ]
  },
  {
   "cell_type": "markdown",
   "metadata": {},
   "source": [
    "# GRU 2"
   ]
  },
  {
   "cell_type": "code",
   "execution_count": null,
   "metadata": {},
   "outputs": [],
   "source": [
    "model_gru2 = tf.keras.Sequential()\n",
    "model_gru2.add(tf.keras.layers.GRU(units = 120, return_sequences = True, input_shape = (X_train.shape[1], X_train.shape[2])))\n",
    "model_gru2.add(tf.keras.layers.Dropout(0.2))\n",
    "model_gru2.add(tf.keras.layers.GRU(units = 120, return_sequences = True))\n",
    "model_gru2.add(tf.keras.layers.Dropout(0.2))\n",
    "model_gru2.add(tf.keras.layers.GRU(units = 120, return_sequences = True))\n",
    "model_gru2.add(tf.keras.layers.Dropout(0.2))\n",
    "model_gru2.add(tf.keras.layers.GRU(units = 120, return_sequences = False))\n",
    "model_gru2.add(tf.keras.layers.Dropout(0.2))\n",
    "model_gru2.add(tf.keras.layers.Dense(units = 1))"
   ]
  },
  {
   "cell_type": "code",
   "execution_count": null,
   "metadata": {},
   "outputs": [],
   "source": [
    "model_gru2.compile(loss = 'mean_squared_error', optimizer = 'adam')"
   ]
  },
  {
   "cell_type": "code",
   "execution_count": null,
   "metadata": {},
   "outputs": [],
   "source": [
    "model_gru2.summary()"
   ]
  },
  {
   "cell_type": "code",
   "execution_count": null,
   "metadata": {},
   "outputs": [],
   "source": [
    "modelo_gru_history2 = model_gru2.fit(X_train, \n",
    "                                     y_train,\n",
    "                                     epochs = 100,\n",
    "                                     batch_size = 32,\n",
    "                                     validation_split = 0.1,\n",
    "                                     callbacks = callbacks,\n",
    "                                     shuffle = False)"
   ]
  },
  {
   "cell_type": "code",
   "execution_count": null,
   "metadata": {},
   "outputs": [],
   "source": [
    "# Plot\n",
    "plt.plot(modelo_gru_history2.history['loss'])\n",
    "plt.plot(modelo_gru_history2.history['val_loss'])\n",
    "plt.title('Avaliação do Modelo')\n",
    "plt.ylabel('Erro')\n",
    "plt.xlabel('Epoch')\n",
    "plt.legend(['Treino', 'Validação'], loc = 'upper right')\n",
    "plt.show()"
   ]
  },
  {
   "cell_type": "code",
   "execution_count": null,
   "metadata": {},
   "outputs": [],
   "source": [
    "y_pred_g2 = model_gru2.predict(X_test)"
   ]
  },
  {
   "cell_type": "code",
   "execution_count": null,
   "metadata": {},
   "outputs": [],
   "source": [
    "# Invertemos a escala para visualizar o valor real e a previsão\n",
    "y_train_inv_g2 = scaler_target.inverse_transform(y_train.reshape(1, -1))\n",
    "y_test_inv_g2 = scaler_target.inverse_transform(y_test.reshape(1, -1))\n",
    "y_pred_inv_g2 = scaler_target.inverse_transform(y_pred_g2.reshape(1,-1))"
   ]
  },
  {
   "cell_type": "code",
   "execution_count": null,
   "metadata": {},
   "outputs": [],
   "source": [
    "# Ajusta o shape\n",
    "y_train_inv_g2 = y_train_inv_g2.flatten()\n",
    "y_test_inv_g2 = y_test_inv_g2.flatten()\n",
    "y_pred_inv_g2 = y_pred_inv_g2.flatten()"
   ]
  },
  {
   "cell_type": "code",
   "execution_count": null,
   "metadata": {},
   "outputs": [],
   "source": [
    "# Plot\n",
    "plt.plot(np.arange(0, len(y_train)), \n",
    "         y_train_inv_g2, \n",
    "         color = 'green', \n",
    "         label = \"Histórico\")\n",
    "\n",
    "plt.plot(np.arange(len(y_train), \n",
    "                   len(y_train) + len(y_test)), \n",
    "         y_test_inv_g2, \n",
    "         color = 'blue', \n",
    "         marker = '.', \n",
    "         label = \"Valor Real\")\n",
    "\n",
    "plt.plot(np.arange(len(y_train), \n",
    "                   len(y_train) + len(y_test)), \n",
    "         y_pred_inv_g2, \n",
    "         color = 'red', \n",
    "         label = \"Previsão\")\n",
    "\n",
    "plt.ylabel('Cotação das ações')\n",
    "plt.xlabel('Data')\n",
    "plt.legend()\n",
    "plt.show();"
   ]
  },
  {
   "cell_type": "code",
   "execution_count": null,
   "metadata": {},
   "outputs": [],
   "source": [
    "# Imprime as métricas\n",
    "MSE_gru2 = mean_squared_error(y_test_inv_g2, y_pred_inv_g2)\n",
    "print('MSE:', MSE_gru2)\n",
    "\n",
    "RMSE_gru2 = mean_squared_error(y_test_inv_g2, y_pred_inv_g2, squared = False)\n",
    "print('RMSE:', RMSE_gru2)\n",
    "\n",
    "MAPE_gru2 = MAPE(y_test_inv_g2, y_pred_inv_g2)\n",
    "print('MAPE:', MAPE_gru2)"
   ]
  }
 ],
 "metadata": {
  "colab": {
   "authorship_tag": "ABX9TyN457TQGnm0SH15JPBMHooq",
   "include_colab_link": true,
   "name": "MV_MLP2.ipynb",
   "provenance": []
  },
  "kernelspec": {
   "display_name": "Python 3 (ipykernel)",
   "language": "python",
   "name": "python3"
  },
  "language_info": {
   "codemirror_mode": {
    "name": "ipython",
    "version": 3
   },
   "file_extension": ".py",
   "mimetype": "text/x-python",
   "name": "python",
   "nbconvert_exporter": "python",
   "pygments_lexer": "ipython3",
   "version": "3.9.13"
  }
 },
 "nbformat": 4,
 "nbformat_minor": 1
}
